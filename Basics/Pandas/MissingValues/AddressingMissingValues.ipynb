{
  "cells": [
    {
      "metadata": {
        "trusted": true
      },
      "cell_type": "code",
      "source": "import pandas as pd",
      "execution_count": 8,
      "outputs": []
    },
    {
      "metadata": {
        "trusted": true
      },
      "cell_type": "code",
      "source": "df = pd.read_csv('weather_data_missing.csv')",
      "execution_count": 9,
      "outputs": []
    },
    {
      "metadata": {
        "trusted": true
      },
      "cell_type": "code",
      "source": "df",
      "execution_count": 10,
      "outputs": [
        {
          "output_type": "execute_result",
          "execution_count": 10,
          "data": {
            "text/html": "<div>\n<style scoped>\n    .dataframe tbody tr th:only-of-type {\n        vertical-align: middle;\n    }\n\n    .dataframe tbody tr th {\n        vertical-align: top;\n    }\n\n    .dataframe thead th {\n        text-align: right;\n    }\n</style>\n<table border=\"1\" class=\"dataframe\">\n  <thead>\n    <tr style=\"text-align: right;\">\n      <th></th>\n      <th>day</th>\n      <th>temperature</th>\n      <th>windspeed</th>\n      <th>event</th>\n    </tr>\n  </thead>\n  <tbody>\n    <tr>\n      <th>0</th>\n      <td>1/1/2017</td>\n      <td>32.0</td>\n      <td>6.0</td>\n      <td>Rain</td>\n    </tr>\n    <tr>\n      <th>1</th>\n      <td>1/4/2017</td>\n      <td>NaN</td>\n      <td>9.0</td>\n      <td>Sunny</td>\n    </tr>\n    <tr>\n      <th>2</th>\n      <td>1/5/2017</td>\n      <td>28.0</td>\n      <td>NaN</td>\n      <td>Snow</td>\n    </tr>\n    <tr>\n      <th>3</th>\n      <td>1/6/2017</td>\n      <td>NaN</td>\n      <td>7.0</td>\n      <td>NaN</td>\n    </tr>\n    <tr>\n      <th>4</th>\n      <td>1/7/2017</td>\n      <td>32.0</td>\n      <td>NaN</td>\n      <td>Rain</td>\n    </tr>\n    <tr>\n      <th>5</th>\n      <td>1/8/2017</td>\n      <td>NaN</td>\n      <td>NaN</td>\n      <td>Sunny</td>\n    </tr>\n    <tr>\n      <th>6</th>\n      <td>1/9/2017</td>\n      <td>NaN</td>\n      <td>NaN</td>\n      <td>NaN</td>\n    </tr>\n    <tr>\n      <th>7</th>\n      <td>1/10/2017</td>\n      <td>34.0</td>\n      <td>8.0</td>\n      <td>Cloudy</td>\n    </tr>\n    <tr>\n      <th>8</th>\n      <td>1/11/2017</td>\n      <td>40.0</td>\n      <td>12.0</td>\n      <td>Sunny</td>\n    </tr>\n  </tbody>\n</table>\n</div>",
            "text/plain": "         day  temperature  windspeed   event\n0   1/1/2017         32.0        6.0    Rain\n1   1/4/2017          NaN        9.0   Sunny\n2   1/5/2017         28.0        NaN    Snow\n3   1/6/2017          NaN        7.0     NaN\n4   1/7/2017         32.0        NaN    Rain\n5   1/8/2017          NaN        NaN   Sunny\n6   1/9/2017          NaN        NaN     NaN\n7  1/10/2017         34.0        8.0  Cloudy\n8  1/11/2017         40.0       12.0   Sunny"
          },
          "metadata": {}
        }
      ]
    },
    {
      "metadata": {},
      "cell_type": "markdown",
      "source": "### Checking the datatype"
    },
    {
      "metadata": {
        "trusted": true
      },
      "cell_type": "code",
      "source": "type(df.day[0])",
      "execution_count": 11,
      "outputs": [
        {
          "output_type": "execute_result",
          "execution_count": 11,
          "data": {
            "text/plain": "str"
          },
          "metadata": {}
        }
      ]
    },
    {
      "metadata": {
        "trusted": true
      },
      "cell_type": "code",
      "source": "## the first col is containing values of dates but its actual type is str\n## convert it into datetype",
      "execution_count": 12,
      "outputs": []
    },
    {
      "metadata": {
        "trusted": true
      },
      "cell_type": "code",
      "source": "df = pd.read_csv('weather_data_missing.csv', parse_dates=['day'])",
      "execution_count": 13,
      "outputs": []
    },
    {
      "metadata": {
        "trusted": true
      },
      "cell_type": "code",
      "source": "type(df.day[0]) ## incorrect way of accessing the column but can be used to immediately understand the data type",
      "execution_count": 14,
      "outputs": [
        {
          "output_type": "execute_result",
          "execution_count": 14,
          "data": {
            "text/plain": "pandas._libs.tslibs.timestamps.Timestamp"
          },
          "metadata": {}
        }
      ]
    },
    {
      "metadata": {
        "trusted": true
      },
      "cell_type": "code",
      "source": "type(df['day']) ## provides the data type of the entire column",
      "execution_count": 15,
      "outputs": [
        {
          "output_type": "execute_result",
          "execution_count": 15,
          "data": {
            "text/plain": "pandas.core.series.Series"
          },
          "metadata": {}
        }
      ]
    },
    {
      "metadata": {
        "trusted": true
      },
      "cell_type": "code",
      "source": "type(df['day'][0]) ## correct way of accessing the column to understand the data type",
      "execution_count": 16,
      "outputs": [
        {
          "output_type": "execute_result",
          "execution_count": 16,
          "data": {
            "text/plain": "pandas._libs.tslibs.timestamps.Timestamp"
          },
          "metadata": {}
        }
      ]
    },
    {
      "metadata": {},
      "cell_type": "markdown",
      "source": "### Finding the missing values"
    },
    {
      "metadata": {
        "trusted": true
      },
      "cell_type": "code",
      "source": "df.info()",
      "execution_count": 17,
      "outputs": [
        {
          "output_type": "stream",
          "text": "<class 'pandas.core.frame.DataFrame'>\nRangeIndex: 9 entries, 0 to 8\nData columns (total 4 columns):\nday            9 non-null datetime64[ns]\ntemperature    5 non-null float64\nwindspeed      5 non-null float64\nevent          7 non-null object\ndtypes: datetime64[ns](1), float64(2), object(1)\nmemory usage: 368.0+ bytes\n",
          "name": "stdout"
        }
      ]
    },
    {
      "metadata": {
        "trusted": true
      },
      "cell_type": "code",
      "source": "df.isna()",
      "execution_count": 18,
      "outputs": [
        {
          "output_type": "execute_result",
          "execution_count": 18,
          "data": {
            "text/html": "<div>\n<style scoped>\n    .dataframe tbody tr th:only-of-type {\n        vertical-align: middle;\n    }\n\n    .dataframe tbody tr th {\n        vertical-align: top;\n    }\n\n    .dataframe thead th {\n        text-align: right;\n    }\n</style>\n<table border=\"1\" class=\"dataframe\">\n  <thead>\n    <tr style=\"text-align: right;\">\n      <th></th>\n      <th>day</th>\n      <th>temperature</th>\n      <th>windspeed</th>\n      <th>event</th>\n    </tr>\n  </thead>\n  <tbody>\n    <tr>\n      <th>0</th>\n      <td>False</td>\n      <td>False</td>\n      <td>False</td>\n      <td>False</td>\n    </tr>\n    <tr>\n      <th>1</th>\n      <td>False</td>\n      <td>True</td>\n      <td>False</td>\n      <td>False</td>\n    </tr>\n    <tr>\n      <th>2</th>\n      <td>False</td>\n      <td>False</td>\n      <td>True</td>\n      <td>False</td>\n    </tr>\n    <tr>\n      <th>3</th>\n      <td>False</td>\n      <td>True</td>\n      <td>False</td>\n      <td>True</td>\n    </tr>\n    <tr>\n      <th>4</th>\n      <td>False</td>\n      <td>False</td>\n      <td>True</td>\n      <td>False</td>\n    </tr>\n    <tr>\n      <th>5</th>\n      <td>False</td>\n      <td>True</td>\n      <td>True</td>\n      <td>False</td>\n    </tr>\n    <tr>\n      <th>6</th>\n      <td>False</td>\n      <td>True</td>\n      <td>True</td>\n      <td>True</td>\n    </tr>\n    <tr>\n      <th>7</th>\n      <td>False</td>\n      <td>False</td>\n      <td>False</td>\n      <td>False</td>\n    </tr>\n    <tr>\n      <th>8</th>\n      <td>False</td>\n      <td>False</td>\n      <td>False</td>\n      <td>False</td>\n    </tr>\n  </tbody>\n</table>\n</div>",
            "text/plain": "     day  temperature  windspeed  event\n0  False        False      False  False\n1  False         True      False  False\n2  False        False       True  False\n3  False         True      False   True\n4  False        False       True  False\n5  False         True       True  False\n6  False         True       True   True\n7  False        False      False  False\n8  False        False      False  False"
          },
          "metadata": {}
        }
      ]
    },
    {
      "metadata": {
        "trusted": true
      },
      "cell_type": "code",
      "source": "df.isnull()",
      "execution_count": 19,
      "outputs": [
        {
          "output_type": "execute_result",
          "execution_count": 19,
          "data": {
            "text/html": "<div>\n<style scoped>\n    .dataframe tbody tr th:only-of-type {\n        vertical-align: middle;\n    }\n\n    .dataframe tbody tr th {\n        vertical-align: top;\n    }\n\n    .dataframe thead th {\n        text-align: right;\n    }\n</style>\n<table border=\"1\" class=\"dataframe\">\n  <thead>\n    <tr style=\"text-align: right;\">\n      <th></th>\n      <th>day</th>\n      <th>temperature</th>\n      <th>windspeed</th>\n      <th>event</th>\n    </tr>\n  </thead>\n  <tbody>\n    <tr>\n      <th>0</th>\n      <td>False</td>\n      <td>False</td>\n      <td>False</td>\n      <td>False</td>\n    </tr>\n    <tr>\n      <th>1</th>\n      <td>False</td>\n      <td>True</td>\n      <td>False</td>\n      <td>False</td>\n    </tr>\n    <tr>\n      <th>2</th>\n      <td>False</td>\n      <td>False</td>\n      <td>True</td>\n      <td>False</td>\n    </tr>\n    <tr>\n      <th>3</th>\n      <td>False</td>\n      <td>True</td>\n      <td>False</td>\n      <td>True</td>\n    </tr>\n    <tr>\n      <th>4</th>\n      <td>False</td>\n      <td>False</td>\n      <td>True</td>\n      <td>False</td>\n    </tr>\n    <tr>\n      <th>5</th>\n      <td>False</td>\n      <td>True</td>\n      <td>True</td>\n      <td>False</td>\n    </tr>\n    <tr>\n      <th>6</th>\n      <td>False</td>\n      <td>True</td>\n      <td>True</td>\n      <td>True</td>\n    </tr>\n    <tr>\n      <th>7</th>\n      <td>False</td>\n      <td>False</td>\n      <td>False</td>\n      <td>False</td>\n    </tr>\n    <tr>\n      <th>8</th>\n      <td>False</td>\n      <td>False</td>\n      <td>False</td>\n      <td>False</td>\n    </tr>\n  </tbody>\n</table>\n</div>",
            "text/plain": "     day  temperature  windspeed  event\n0  False        False      False  False\n1  False         True      False  False\n2  False        False       True  False\n3  False         True      False   True\n4  False        False       True  False\n5  False         True       True  False\n6  False         True       True   True\n7  False        False      False  False\n8  False        False      False  False"
          },
          "metadata": {}
        }
      ]
    },
    {
      "metadata": {
        "trusted": true
      },
      "cell_type": "code",
      "source": "df.isnull",
      "execution_count": 20,
      "outputs": [
        {
          "output_type": "execute_result",
          "execution_count": 20,
          "data": {
            "text/plain": "<bound method DataFrame.isnull of          day  temperature  windspeed   event\n0 2017-01-01         32.0        6.0    Rain\n1 2017-01-04          NaN        9.0   Sunny\n2 2017-01-05         28.0        NaN    Snow\n3 2017-01-06          NaN        7.0     NaN\n4 2017-01-07         32.0        NaN    Rain\n5 2017-01-08          NaN        NaN   Sunny\n6 2017-01-09          NaN        NaN     NaN\n7 2017-01-10         34.0        8.0  Cloudy\n8 2017-01-11         40.0       12.0   Sunny>"
          },
          "metadata": {}
        }
      ]
    },
    {
      "metadata": {},
      "cell_type": "markdown",
      "source": "### Creating a new df with na values filled with 0"
    },
    {
      "metadata": {
        "trusted": true
      },
      "cell_type": "code",
      "source": "df1 = df.fillna(0)",
      "execution_count": 21,
      "outputs": []
    },
    {
      "metadata": {
        "trusted": true
      },
      "cell_type": "code",
      "source": "df1 ## df was replicated by replacing the NaN with 0's ",
      "execution_count": 22,
      "outputs": [
        {
          "output_type": "execute_result",
          "execution_count": 22,
          "data": {
            "text/html": "<div>\n<style scoped>\n    .dataframe tbody tr th:only-of-type {\n        vertical-align: middle;\n    }\n\n    .dataframe tbody tr th {\n        vertical-align: top;\n    }\n\n    .dataframe thead th {\n        text-align: right;\n    }\n</style>\n<table border=\"1\" class=\"dataframe\">\n  <thead>\n    <tr style=\"text-align: right;\">\n      <th></th>\n      <th>day</th>\n      <th>temperature</th>\n      <th>windspeed</th>\n      <th>event</th>\n    </tr>\n  </thead>\n  <tbody>\n    <tr>\n      <th>0</th>\n      <td>2017-01-01</td>\n      <td>32.0</td>\n      <td>6.0</td>\n      <td>Rain</td>\n    </tr>\n    <tr>\n      <th>1</th>\n      <td>2017-01-04</td>\n      <td>0.0</td>\n      <td>9.0</td>\n      <td>Sunny</td>\n    </tr>\n    <tr>\n      <th>2</th>\n      <td>2017-01-05</td>\n      <td>28.0</td>\n      <td>0.0</td>\n      <td>Snow</td>\n    </tr>\n    <tr>\n      <th>3</th>\n      <td>2017-01-06</td>\n      <td>0.0</td>\n      <td>7.0</td>\n      <td>0</td>\n    </tr>\n    <tr>\n      <th>4</th>\n      <td>2017-01-07</td>\n      <td>32.0</td>\n      <td>0.0</td>\n      <td>Rain</td>\n    </tr>\n    <tr>\n      <th>5</th>\n      <td>2017-01-08</td>\n      <td>0.0</td>\n      <td>0.0</td>\n      <td>Sunny</td>\n    </tr>\n    <tr>\n      <th>6</th>\n      <td>2017-01-09</td>\n      <td>0.0</td>\n      <td>0.0</td>\n      <td>0</td>\n    </tr>\n    <tr>\n      <th>7</th>\n      <td>2017-01-10</td>\n      <td>34.0</td>\n      <td>8.0</td>\n      <td>Cloudy</td>\n    </tr>\n    <tr>\n      <th>8</th>\n      <td>2017-01-11</td>\n      <td>40.0</td>\n      <td>12.0</td>\n      <td>Sunny</td>\n    </tr>\n  </tbody>\n</table>\n</div>",
            "text/plain": "         day  temperature  windspeed   event\n0 2017-01-01         32.0        6.0    Rain\n1 2017-01-04          0.0        9.0   Sunny\n2 2017-01-05         28.0        0.0    Snow\n3 2017-01-06          0.0        7.0       0\n4 2017-01-07         32.0        0.0    Rain\n5 2017-01-08          0.0        0.0   Sunny\n6 2017-01-09          0.0        0.0       0\n7 2017-01-10         34.0        8.0  Cloudy\n8 2017-01-11         40.0       12.0   Sunny"
          },
          "metadata": {}
        }
      ]
    },
    {
      "metadata": {},
      "cell_type": "markdown",
      "source": "Replacing NaN with 0's and filling the entire table does not make sense so lets change the idea of replacing "
    },
    {
      "metadata": {
        "trusted": true
      },
      "cell_type": "code",
      "source": "## Adding a dictionary to add appropriate values to be replaced instead of NaN\ndf1 = df.fillna({\n    'temperature' : 0,\n    'windspeed' : 0,\n    'event' : 'no event'\n})",
      "execution_count": 23,
      "outputs": []
    },
    {
      "metadata": {
        "trusted": true
      },
      "cell_type": "code",
      "source": "df1",
      "execution_count": 24,
      "outputs": [
        {
          "output_type": "execute_result",
          "execution_count": 24,
          "data": {
            "text/html": "<div>\n<style scoped>\n    .dataframe tbody tr th:only-of-type {\n        vertical-align: middle;\n    }\n\n    .dataframe tbody tr th {\n        vertical-align: top;\n    }\n\n    .dataframe thead th {\n        text-align: right;\n    }\n</style>\n<table border=\"1\" class=\"dataframe\">\n  <thead>\n    <tr style=\"text-align: right;\">\n      <th></th>\n      <th>day</th>\n      <th>temperature</th>\n      <th>windspeed</th>\n      <th>event</th>\n    </tr>\n  </thead>\n  <tbody>\n    <tr>\n      <th>0</th>\n      <td>2017-01-01</td>\n      <td>32.0</td>\n      <td>6.0</td>\n      <td>Rain</td>\n    </tr>\n    <tr>\n      <th>1</th>\n      <td>2017-01-04</td>\n      <td>0.0</td>\n      <td>9.0</td>\n      <td>Sunny</td>\n    </tr>\n    <tr>\n      <th>2</th>\n      <td>2017-01-05</td>\n      <td>28.0</td>\n      <td>0.0</td>\n      <td>Snow</td>\n    </tr>\n    <tr>\n      <th>3</th>\n      <td>2017-01-06</td>\n      <td>0.0</td>\n      <td>7.0</td>\n      <td>no event</td>\n    </tr>\n    <tr>\n      <th>4</th>\n      <td>2017-01-07</td>\n      <td>32.0</td>\n      <td>0.0</td>\n      <td>Rain</td>\n    </tr>\n    <tr>\n      <th>5</th>\n      <td>2017-01-08</td>\n      <td>0.0</td>\n      <td>0.0</td>\n      <td>Sunny</td>\n    </tr>\n    <tr>\n      <th>6</th>\n      <td>2017-01-09</td>\n      <td>0.0</td>\n      <td>0.0</td>\n      <td>no event</td>\n    </tr>\n    <tr>\n      <th>7</th>\n      <td>2017-01-10</td>\n      <td>34.0</td>\n      <td>8.0</td>\n      <td>Cloudy</td>\n    </tr>\n    <tr>\n      <th>8</th>\n      <td>2017-01-11</td>\n      <td>40.0</td>\n      <td>12.0</td>\n      <td>Sunny</td>\n    </tr>\n  </tbody>\n</table>\n</div>",
            "text/plain": "         day  temperature  windspeed     event\n0 2017-01-01         32.0        6.0      Rain\n1 2017-01-04          0.0        9.0     Sunny\n2 2017-01-05         28.0        0.0      Snow\n3 2017-01-06          0.0        7.0  no event\n4 2017-01-07         32.0        0.0      Rain\n5 2017-01-08          0.0        0.0     Sunny\n6 2017-01-09          0.0        0.0  no event\n7 2017-01-10         34.0        8.0    Cloudy\n8 2017-01-11         40.0       12.0     Sunny"
          },
          "metadata": {}
        }
      ]
    },
    {
      "metadata": {},
      "cell_type": "markdown",
      "source": "#### Various methods of fillna\n\nInstead of replacing the values with 0 or adding no event we can use several methods provided by fillna \nsuch as\n(1.ffill-> foward fill, 2.bfill-> backward fill)\n\n1. ffill -> foward fill which fills the current value to next entry if NaN with present value hence foward fill"
    },
    {
      "metadata": {
        "trusted": true
      },
      "cell_type": "code",
      "source": "df1 = df.fillna(method='ffill')",
      "execution_count": 25,
      "outputs": []
    },
    {
      "metadata": {
        "trusted": true
      },
      "cell_type": "code",
      "source": "df1",
      "execution_count": 26,
      "outputs": [
        {
          "output_type": "execute_result",
          "execution_count": 26,
          "data": {
            "text/html": "<div>\n<style scoped>\n    .dataframe tbody tr th:only-of-type {\n        vertical-align: middle;\n    }\n\n    .dataframe tbody tr th {\n        vertical-align: top;\n    }\n\n    .dataframe thead th {\n        text-align: right;\n    }\n</style>\n<table border=\"1\" class=\"dataframe\">\n  <thead>\n    <tr style=\"text-align: right;\">\n      <th></th>\n      <th>day</th>\n      <th>temperature</th>\n      <th>windspeed</th>\n      <th>event</th>\n    </tr>\n  </thead>\n  <tbody>\n    <tr>\n      <th>0</th>\n      <td>2017-01-01</td>\n      <td>32.0</td>\n      <td>6.0</td>\n      <td>Rain</td>\n    </tr>\n    <tr>\n      <th>1</th>\n      <td>2017-01-04</td>\n      <td>32.0</td>\n      <td>9.0</td>\n      <td>Sunny</td>\n    </tr>\n    <tr>\n      <th>2</th>\n      <td>2017-01-05</td>\n      <td>28.0</td>\n      <td>9.0</td>\n      <td>Snow</td>\n    </tr>\n    <tr>\n      <th>3</th>\n      <td>2017-01-06</td>\n      <td>28.0</td>\n      <td>7.0</td>\n      <td>Snow</td>\n    </tr>\n    <tr>\n      <th>4</th>\n      <td>2017-01-07</td>\n      <td>32.0</td>\n      <td>7.0</td>\n      <td>Rain</td>\n    </tr>\n    <tr>\n      <th>5</th>\n      <td>2017-01-08</td>\n      <td>32.0</td>\n      <td>7.0</td>\n      <td>Sunny</td>\n    </tr>\n    <tr>\n      <th>6</th>\n      <td>2017-01-09</td>\n      <td>32.0</td>\n      <td>7.0</td>\n      <td>Sunny</td>\n    </tr>\n    <tr>\n      <th>7</th>\n      <td>2017-01-10</td>\n      <td>34.0</td>\n      <td>8.0</td>\n      <td>Cloudy</td>\n    </tr>\n    <tr>\n      <th>8</th>\n      <td>2017-01-11</td>\n      <td>40.0</td>\n      <td>12.0</td>\n      <td>Sunny</td>\n    </tr>\n  </tbody>\n</table>\n</div>",
            "text/plain": "         day  temperature  windspeed   event\n0 2017-01-01         32.0        6.0    Rain\n1 2017-01-04         32.0        9.0   Sunny\n2 2017-01-05         28.0        9.0    Snow\n3 2017-01-06         28.0        7.0    Snow\n4 2017-01-07         32.0        7.0    Rain\n5 2017-01-08         32.0        7.0   Sunny\n6 2017-01-09         32.0        7.0   Sunny\n7 2017-01-10         34.0        8.0  Cloudy\n8 2017-01-11         40.0       12.0   Sunny"
          },
          "metadata": {}
        }
      ]
    },
    {
      "metadata": {
        "trusted": true
      },
      "cell_type": "code",
      "source": "df2 = df.fillna(method='bfill')",
      "execution_count": 27,
      "outputs": []
    },
    {
      "metadata": {
        "trusted": true
      },
      "cell_type": "code",
      "source": "df2",
      "execution_count": 28,
      "outputs": [
        {
          "output_type": "execute_result",
          "execution_count": 28,
          "data": {
            "text/html": "<div>\n<style scoped>\n    .dataframe tbody tr th:only-of-type {\n        vertical-align: middle;\n    }\n\n    .dataframe tbody tr th {\n        vertical-align: top;\n    }\n\n    .dataframe thead th {\n        text-align: right;\n    }\n</style>\n<table border=\"1\" class=\"dataframe\">\n  <thead>\n    <tr style=\"text-align: right;\">\n      <th></th>\n      <th>day</th>\n      <th>temperature</th>\n      <th>windspeed</th>\n      <th>event</th>\n    </tr>\n  </thead>\n  <tbody>\n    <tr>\n      <th>0</th>\n      <td>2017-01-01</td>\n      <td>32.0</td>\n      <td>6.0</td>\n      <td>Rain</td>\n    </tr>\n    <tr>\n      <th>1</th>\n      <td>2017-01-04</td>\n      <td>28.0</td>\n      <td>9.0</td>\n      <td>Sunny</td>\n    </tr>\n    <tr>\n      <th>2</th>\n      <td>2017-01-05</td>\n      <td>28.0</td>\n      <td>7.0</td>\n      <td>Snow</td>\n    </tr>\n    <tr>\n      <th>3</th>\n      <td>2017-01-06</td>\n      <td>32.0</td>\n      <td>7.0</td>\n      <td>Rain</td>\n    </tr>\n    <tr>\n      <th>4</th>\n      <td>2017-01-07</td>\n      <td>32.0</td>\n      <td>8.0</td>\n      <td>Rain</td>\n    </tr>\n    <tr>\n      <th>5</th>\n      <td>2017-01-08</td>\n      <td>34.0</td>\n      <td>8.0</td>\n      <td>Sunny</td>\n    </tr>\n    <tr>\n      <th>6</th>\n      <td>2017-01-09</td>\n      <td>34.0</td>\n      <td>8.0</td>\n      <td>Cloudy</td>\n    </tr>\n    <tr>\n      <th>7</th>\n      <td>2017-01-10</td>\n      <td>34.0</td>\n      <td>8.0</td>\n      <td>Cloudy</td>\n    </tr>\n    <tr>\n      <th>8</th>\n      <td>2017-01-11</td>\n      <td>40.0</td>\n      <td>12.0</td>\n      <td>Sunny</td>\n    </tr>\n  </tbody>\n</table>\n</div>",
            "text/plain": "         day  temperature  windspeed   event\n0 2017-01-01         32.0        6.0    Rain\n1 2017-01-04         28.0        9.0   Sunny\n2 2017-01-05         28.0        7.0    Snow\n3 2017-01-06         32.0        7.0    Rain\n4 2017-01-07         32.0        8.0    Rain\n5 2017-01-08         34.0        8.0   Sunny\n6 2017-01-09         34.0        8.0  Cloudy\n7 2017-01-10         34.0        8.0  Cloudy\n8 2017-01-11         40.0       12.0   Sunny"
          },
          "metadata": {}
        }
      ]
    },
    {
      "metadata": {
        "trusted": true
      },
      "cell_type": "code",
      "source": "## Limitint the replacing values",
      "execution_count": 29,
      "outputs": []
    },
    {
      "metadata": {
        "trusted": true
      },
      "cell_type": "code",
      "source": "df2 = df.fillna(method='bfill', limit=1) ## fills the NaN with the times passed into limit arg",
      "execution_count": 31,
      "outputs": []
    },
    {
      "metadata": {
        "trusted": true
      },
      "cell_type": "code",
      "source": "df2",
      "execution_count": 32,
      "outputs": [
        {
          "output_type": "execute_result",
          "execution_count": 32,
          "data": {
            "text/html": "<div>\n<style scoped>\n    .dataframe tbody tr th:only-of-type {\n        vertical-align: middle;\n    }\n\n    .dataframe tbody tr th {\n        vertical-align: top;\n    }\n\n    .dataframe thead th {\n        text-align: right;\n    }\n</style>\n<table border=\"1\" class=\"dataframe\">\n  <thead>\n    <tr style=\"text-align: right;\">\n      <th></th>\n      <th>day</th>\n      <th>temperature</th>\n      <th>windspeed</th>\n      <th>event</th>\n    </tr>\n  </thead>\n  <tbody>\n    <tr>\n      <th>0</th>\n      <td>2017-01-01</td>\n      <td>32.0</td>\n      <td>6.0</td>\n      <td>Rain</td>\n    </tr>\n    <tr>\n      <th>1</th>\n      <td>2017-01-04</td>\n      <td>28.0</td>\n      <td>9.0</td>\n      <td>Sunny</td>\n    </tr>\n    <tr>\n      <th>2</th>\n      <td>2017-01-05</td>\n      <td>28.0</td>\n      <td>7.0</td>\n      <td>Snow</td>\n    </tr>\n    <tr>\n      <th>3</th>\n      <td>2017-01-06</td>\n      <td>32.0</td>\n      <td>7.0</td>\n      <td>Rain</td>\n    </tr>\n    <tr>\n      <th>4</th>\n      <td>2017-01-07</td>\n      <td>32.0</td>\n      <td>NaN</td>\n      <td>Rain</td>\n    </tr>\n    <tr>\n      <th>5</th>\n      <td>2017-01-08</td>\n      <td>NaN</td>\n      <td>NaN</td>\n      <td>Sunny</td>\n    </tr>\n    <tr>\n      <th>6</th>\n      <td>2017-01-09</td>\n      <td>34.0</td>\n      <td>8.0</td>\n      <td>Cloudy</td>\n    </tr>\n    <tr>\n      <th>7</th>\n      <td>2017-01-10</td>\n      <td>34.0</td>\n      <td>8.0</td>\n      <td>Cloudy</td>\n    </tr>\n    <tr>\n      <th>8</th>\n      <td>2017-01-11</td>\n      <td>40.0</td>\n      <td>12.0</td>\n      <td>Sunny</td>\n    </tr>\n  </tbody>\n</table>\n</div>",
            "text/plain": "         day  temperature  windspeed   event\n0 2017-01-01         32.0        6.0    Rain\n1 2017-01-04         28.0        9.0   Sunny\n2 2017-01-05         28.0        7.0    Snow\n3 2017-01-06         32.0        7.0    Rain\n4 2017-01-07         32.0        NaN    Rain\n5 2017-01-08          NaN        NaN   Sunny\n6 2017-01-09         34.0        8.0  Cloudy\n7 2017-01-10         34.0        8.0  Cloudy\n8 2017-01-11         40.0       12.0   Sunny"
          },
          "metadata": {}
        }
      ]
    },
    {
      "metadata": {
        "trusted": true
      },
      "cell_type": "code",
      "source": "df2 = df.fillna(method='bfill', limit=2)",
      "execution_count": 33,
      "outputs": []
    },
    {
      "metadata": {
        "trusted": true
      },
      "cell_type": "code",
      "source": "df2",
      "execution_count": 34,
      "outputs": [
        {
          "output_type": "execute_result",
          "execution_count": 34,
          "data": {
            "text/html": "<div>\n<style scoped>\n    .dataframe tbody tr th:only-of-type {\n        vertical-align: middle;\n    }\n\n    .dataframe tbody tr th {\n        vertical-align: top;\n    }\n\n    .dataframe thead th {\n        text-align: right;\n    }\n</style>\n<table border=\"1\" class=\"dataframe\">\n  <thead>\n    <tr style=\"text-align: right;\">\n      <th></th>\n      <th>day</th>\n      <th>temperature</th>\n      <th>windspeed</th>\n      <th>event</th>\n    </tr>\n  </thead>\n  <tbody>\n    <tr>\n      <th>0</th>\n      <td>2017-01-01</td>\n      <td>32.0</td>\n      <td>6.0</td>\n      <td>Rain</td>\n    </tr>\n    <tr>\n      <th>1</th>\n      <td>2017-01-04</td>\n      <td>28.0</td>\n      <td>9.0</td>\n      <td>Sunny</td>\n    </tr>\n    <tr>\n      <th>2</th>\n      <td>2017-01-05</td>\n      <td>28.0</td>\n      <td>7.0</td>\n      <td>Snow</td>\n    </tr>\n    <tr>\n      <th>3</th>\n      <td>2017-01-06</td>\n      <td>32.0</td>\n      <td>7.0</td>\n      <td>Rain</td>\n    </tr>\n    <tr>\n      <th>4</th>\n      <td>2017-01-07</td>\n      <td>32.0</td>\n      <td>NaN</td>\n      <td>Rain</td>\n    </tr>\n    <tr>\n      <th>5</th>\n      <td>2017-01-08</td>\n      <td>34.0</td>\n      <td>8.0</td>\n      <td>Sunny</td>\n    </tr>\n    <tr>\n      <th>6</th>\n      <td>2017-01-09</td>\n      <td>34.0</td>\n      <td>8.0</td>\n      <td>Cloudy</td>\n    </tr>\n    <tr>\n      <th>7</th>\n      <td>2017-01-10</td>\n      <td>34.0</td>\n      <td>8.0</td>\n      <td>Cloudy</td>\n    </tr>\n    <tr>\n      <th>8</th>\n      <td>2017-01-11</td>\n      <td>40.0</td>\n      <td>12.0</td>\n      <td>Sunny</td>\n    </tr>\n  </tbody>\n</table>\n</div>",
            "text/plain": "         day  temperature  windspeed   event\n0 2017-01-01         32.0        6.0    Rain\n1 2017-01-04         28.0        9.0   Sunny\n2 2017-01-05         28.0        7.0    Snow\n3 2017-01-06         32.0        7.0    Rain\n4 2017-01-07         32.0        NaN    Rain\n5 2017-01-08         34.0        8.0   Sunny\n6 2017-01-09         34.0        8.0  Cloudy\n7 2017-01-10         34.0        8.0  Cloudy\n8 2017-01-11         40.0       12.0   Sunny"
          },
          "metadata": {}
        }
      ]
    },
    {
      "metadata": {},
      "cell_type": "markdown",
      "source": "### Using Interpolation"
    },
    {
      "metadata": {},
      "cell_type": "markdown",
      "source": "InterPolation addresse's the NaN values which are numerical but it does not affect categorical col's"
    },
    {
      "metadata": {
        "trusted": true
      },
      "cell_type": "code",
      "source": "df1 = df.interpolate() ## Note that values in temp and windspeed cols gets linear interpolated values but nothing happens in event col",
      "execution_count": 35,
      "outputs": []
    },
    {
      "metadata": {
        "trusted": true
      },
      "cell_type": "code",
      "source": "df1",
      "execution_count": 36,
      "outputs": [
        {
          "output_type": "execute_result",
          "execution_count": 36,
          "data": {
            "text/html": "<div>\n<style scoped>\n    .dataframe tbody tr th:only-of-type {\n        vertical-align: middle;\n    }\n\n    .dataframe tbody tr th {\n        vertical-align: top;\n    }\n\n    .dataframe thead th {\n        text-align: right;\n    }\n</style>\n<table border=\"1\" class=\"dataframe\">\n  <thead>\n    <tr style=\"text-align: right;\">\n      <th></th>\n      <th>day</th>\n      <th>temperature</th>\n      <th>windspeed</th>\n      <th>event</th>\n    </tr>\n  </thead>\n  <tbody>\n    <tr>\n      <th>0</th>\n      <td>2017-01-01</td>\n      <td>32.000000</td>\n      <td>6.00</td>\n      <td>Rain</td>\n    </tr>\n    <tr>\n      <th>1</th>\n      <td>2017-01-04</td>\n      <td>30.000000</td>\n      <td>9.00</td>\n      <td>Sunny</td>\n    </tr>\n    <tr>\n      <th>2</th>\n      <td>2017-01-05</td>\n      <td>28.000000</td>\n      <td>8.00</td>\n      <td>Snow</td>\n    </tr>\n    <tr>\n      <th>3</th>\n      <td>2017-01-06</td>\n      <td>30.000000</td>\n      <td>7.00</td>\n      <td>NaN</td>\n    </tr>\n    <tr>\n      <th>4</th>\n      <td>2017-01-07</td>\n      <td>32.000000</td>\n      <td>7.25</td>\n      <td>Rain</td>\n    </tr>\n    <tr>\n      <th>5</th>\n      <td>2017-01-08</td>\n      <td>32.666667</td>\n      <td>7.50</td>\n      <td>Sunny</td>\n    </tr>\n    <tr>\n      <th>6</th>\n      <td>2017-01-09</td>\n      <td>33.333333</td>\n      <td>7.75</td>\n      <td>NaN</td>\n    </tr>\n    <tr>\n      <th>7</th>\n      <td>2017-01-10</td>\n      <td>34.000000</td>\n      <td>8.00</td>\n      <td>Cloudy</td>\n    </tr>\n    <tr>\n      <th>8</th>\n      <td>2017-01-11</td>\n      <td>40.000000</td>\n      <td>12.00</td>\n      <td>Sunny</td>\n    </tr>\n  </tbody>\n</table>\n</div>",
            "text/plain": "         day  temperature  windspeed   event\n0 2017-01-01    32.000000       6.00    Rain\n1 2017-01-04    30.000000       9.00   Sunny\n2 2017-01-05    28.000000       8.00    Snow\n3 2017-01-06    30.000000       7.00     NaN\n4 2017-01-07    32.000000       7.25    Rain\n5 2017-01-08    32.666667       7.50   Sunny\n6 2017-01-09    33.333333       7.75     NaN\n7 2017-01-10    34.000000       8.00  Cloudy\n8 2017-01-11    40.000000      12.00   Sunny"
          },
          "metadata": {}
        }
      ]
    },
    {
      "metadata": {},
      "cell_type": "markdown",
      "source": "If we observe the day col 1st row has day_no:01 and second row has day_no:04 NaN and third row has day_no:05 but its taking the linear interpolated values between 01 and 05 and providing it to day 04 hence lets use a parameter time to address this problem"
    },
    {
      "metadata": {
        "trusted": true
      },
      "cell_type": "code",
      "source": "df1 = df.interpolate(method=\"time\")",
      "execution_count": 38,
      "outputs": [
        {
          "output_type": "error",
          "ename": "ValueError",
          "evalue": "time-weighted interpolation only works on Series or DataFrames with a DatetimeIndex",
          "traceback": [
            "\u001b[0;31m---------------------------------------------------------------------------\u001b[0m",
            "\u001b[0;31mValueError\u001b[0m                                Traceback (most recent call last)",
            "\u001b[0;32m<ipython-input-38-269e94567818>\u001b[0m in \u001b[0;36m<module>\u001b[0;34m\u001b[0m\n\u001b[0;32m----> 1\u001b[0;31m \u001b[0mdf1\u001b[0m \u001b[0;34m=\u001b[0m \u001b[0mdf\u001b[0m\u001b[0;34m.\u001b[0m\u001b[0minterpolate\u001b[0m\u001b[0;34m(\u001b[0m\u001b[0mmethod\u001b[0m\u001b[0;34m=\u001b[0m\u001b[0;34m\"time\"\u001b[0m\u001b[0;34m)\u001b[0m\u001b[0;34m\u001b[0m\u001b[0m\n\u001b[0m",
            "\u001b[0;32m~/anaconda3_501/lib/python3.6/site-packages/pandas/core/generic.py\u001b[0m in \u001b[0;36minterpolate\u001b[0;34m(self, method, axis, limit, inplace, limit_direction, limit_area, downcast, **kwargs)\u001b[0m\n\u001b[1;32m   6032\u001b[0m                                     \u001b[0mlimit_area\u001b[0m\u001b[0;34m=\u001b[0m\u001b[0mlimit_area\u001b[0m\u001b[0;34m,\u001b[0m\u001b[0;34m\u001b[0m\u001b[0m\n\u001b[1;32m   6033\u001b[0m                                     \u001b[0minplace\u001b[0m\u001b[0;34m=\u001b[0m\u001b[0minplace\u001b[0m\u001b[0;34m,\u001b[0m \u001b[0mdowncast\u001b[0m\u001b[0;34m=\u001b[0m\u001b[0mdowncast\u001b[0m\u001b[0;34m,\u001b[0m\u001b[0;34m\u001b[0m\u001b[0m\n\u001b[0;32m-> 6034\u001b[0;31m                                     **kwargs)\n\u001b[0m\u001b[1;32m   6035\u001b[0m \u001b[0;34m\u001b[0m\u001b[0m\n\u001b[1;32m   6036\u001b[0m         \u001b[0;32mif\u001b[0m \u001b[0minplace\u001b[0m\u001b[0;34m:\u001b[0m\u001b[0;34m\u001b[0m\u001b[0m\n",
            "\u001b[0;32m~/anaconda3_501/lib/python3.6/site-packages/pandas/core/internals.py\u001b[0m in \u001b[0;36minterpolate\u001b[0;34m(self, **kwargs)\u001b[0m\n\u001b[1;32m   3700\u001b[0m \u001b[0;34m\u001b[0m\u001b[0m\n\u001b[1;32m   3701\u001b[0m     \u001b[0;32mdef\u001b[0m \u001b[0minterpolate\u001b[0m\u001b[0;34m(\u001b[0m\u001b[0mself\u001b[0m\u001b[0;34m,\u001b[0m \u001b[0;34m**\u001b[0m\u001b[0mkwargs\u001b[0m\u001b[0;34m)\u001b[0m\u001b[0;34m:\u001b[0m\u001b[0;34m\u001b[0m\u001b[0m\n\u001b[0;32m-> 3702\u001b[0;31m         \u001b[0;32mreturn\u001b[0m \u001b[0mself\u001b[0m\u001b[0;34m.\u001b[0m\u001b[0mapply\u001b[0m\u001b[0;34m(\u001b[0m\u001b[0;34m'interpolate'\u001b[0m\u001b[0;34m,\u001b[0m \u001b[0;34m**\u001b[0m\u001b[0mkwargs\u001b[0m\u001b[0;34m)\u001b[0m\u001b[0;34m\u001b[0m\u001b[0m\n\u001b[0m\u001b[1;32m   3703\u001b[0m \u001b[0;34m\u001b[0m\u001b[0m\n\u001b[1;32m   3704\u001b[0m     \u001b[0;32mdef\u001b[0m \u001b[0mshift\u001b[0m\u001b[0;34m(\u001b[0m\u001b[0mself\u001b[0m\u001b[0;34m,\u001b[0m \u001b[0;34m**\u001b[0m\u001b[0mkwargs\u001b[0m\u001b[0;34m)\u001b[0m\u001b[0;34m:\u001b[0m\u001b[0;34m\u001b[0m\u001b[0m\n",
            "\u001b[0;32m~/anaconda3_501/lib/python3.6/site-packages/pandas/core/internals.py\u001b[0m in \u001b[0;36mapply\u001b[0;34m(self, f, axes, filter, do_integrity_check, consolidate, **kwargs)\u001b[0m\n\u001b[1;32m   3579\u001b[0m \u001b[0;34m\u001b[0m\u001b[0m\n\u001b[1;32m   3580\u001b[0m             \u001b[0mkwargs\u001b[0m\u001b[0;34m[\u001b[0m\u001b[0;34m'mgr'\u001b[0m\u001b[0;34m]\u001b[0m \u001b[0;34m=\u001b[0m \u001b[0mself\u001b[0m\u001b[0;34m\u001b[0m\u001b[0m\n\u001b[0;32m-> 3581\u001b[0;31m             \u001b[0mapplied\u001b[0m \u001b[0;34m=\u001b[0m \u001b[0mgetattr\u001b[0m\u001b[0;34m(\u001b[0m\u001b[0mb\u001b[0m\u001b[0;34m,\u001b[0m \u001b[0mf\u001b[0m\u001b[0;34m)\u001b[0m\u001b[0;34m(\u001b[0m\u001b[0;34m**\u001b[0m\u001b[0mkwargs\u001b[0m\u001b[0;34m)\u001b[0m\u001b[0;34m\u001b[0m\u001b[0m\n\u001b[0m\u001b[1;32m   3582\u001b[0m             \u001b[0mresult_blocks\u001b[0m \u001b[0;34m=\u001b[0m \u001b[0m_extend_blocks\u001b[0m\u001b[0;34m(\u001b[0m\u001b[0mapplied\u001b[0m\u001b[0;34m,\u001b[0m \u001b[0mresult_blocks\u001b[0m\u001b[0;34m)\u001b[0m\u001b[0;34m\u001b[0m\u001b[0m\n\u001b[1;32m   3583\u001b[0m \u001b[0;34m\u001b[0m\u001b[0m\n",
            "\u001b[0;32m~/anaconda3_501/lib/python3.6/site-packages/pandas/core/internals.py\u001b[0m in \u001b[0;36minterpolate\u001b[0;34m(self, method, axis, index, values, inplace, limit, limit_direction, limit_area, fill_value, coerce, downcast, mgr, **kwargs)\u001b[0m\n\u001b[1;32m   1164\u001b[0m                                      \u001b[0mlimit_area\u001b[0m\u001b[0;34m=\u001b[0m\u001b[0mlimit_area\u001b[0m\u001b[0;34m,\u001b[0m\u001b[0;34m\u001b[0m\u001b[0m\n\u001b[1;32m   1165\u001b[0m                                      \u001b[0mfill_value\u001b[0m\u001b[0;34m=\u001b[0m\u001b[0mfill_value\u001b[0m\u001b[0;34m,\u001b[0m \u001b[0minplace\u001b[0m\u001b[0;34m=\u001b[0m\u001b[0minplace\u001b[0m\u001b[0;34m,\u001b[0m\u001b[0;34m\u001b[0m\u001b[0m\n\u001b[0;32m-> 1166\u001b[0;31m                                      downcast=downcast, mgr=mgr, **kwargs)\n\u001b[0m\u001b[1;32m   1167\u001b[0m \u001b[0;34m\u001b[0m\u001b[0m\n\u001b[1;32m   1168\u001b[0m         \u001b[0;32mraise\u001b[0m \u001b[0mValueError\u001b[0m\u001b[0;34m(\u001b[0m\u001b[0;34m\"invalid method '{0}' to interpolate.\"\u001b[0m\u001b[0;34m.\u001b[0m\u001b[0mformat\u001b[0m\u001b[0;34m(\u001b[0m\u001b[0mmethod\u001b[0m\u001b[0;34m)\u001b[0m\u001b[0;34m)\u001b[0m\u001b[0;34m\u001b[0m\u001b[0m\n",
            "\u001b[0;32m~/anaconda3_501/lib/python3.6/site-packages/pandas/core/internals.py\u001b[0m in \u001b[0;36m_interpolate\u001b[0;34m(self, method, index, values, fill_value, axis, limit, limit_direction, limit_area, inplace, downcast, mgr, **kwargs)\u001b[0m\n\u001b[1;32m   1230\u001b[0m \u001b[0;34m\u001b[0m\u001b[0m\n\u001b[1;32m   1231\u001b[0m         \u001b[0;31m# interp each column independently\u001b[0m\u001b[0;34m\u001b[0m\u001b[0;34m\u001b[0m\u001b[0m\n\u001b[0;32m-> 1232\u001b[0;31m         \u001b[0minterp_values\u001b[0m \u001b[0;34m=\u001b[0m \u001b[0mnp\u001b[0m\u001b[0;34m.\u001b[0m\u001b[0mapply_along_axis\u001b[0m\u001b[0;34m(\u001b[0m\u001b[0mfunc\u001b[0m\u001b[0;34m,\u001b[0m \u001b[0maxis\u001b[0m\u001b[0;34m,\u001b[0m \u001b[0mdata\u001b[0m\u001b[0;34m)\u001b[0m\u001b[0;34m\u001b[0m\u001b[0m\n\u001b[0m\u001b[1;32m   1233\u001b[0m \u001b[0;34m\u001b[0m\u001b[0m\n\u001b[1;32m   1234\u001b[0m         \u001b[0mblocks\u001b[0m \u001b[0;34m=\u001b[0m \u001b[0;34m[\u001b[0m\u001b[0mself\u001b[0m\u001b[0;34m.\u001b[0m\u001b[0mmake_block_same_class\u001b[0m\u001b[0;34m(\u001b[0m\u001b[0minterp_values\u001b[0m\u001b[0;34m)\u001b[0m\u001b[0;34m]\u001b[0m\u001b[0;34m\u001b[0m\u001b[0m\n",
            "\u001b[0;32m~/anaconda3_501/lib/python3.6/site-packages/numpy/lib/shape_base.py\u001b[0m in \u001b[0;36mapply_along_axis\u001b[0;34m(func1d, axis, arr, *args, **kwargs)\u001b[0m\n\u001b[1;32m    378\u001b[0m     \u001b[0;32mexcept\u001b[0m \u001b[0mStopIteration\u001b[0m\u001b[0;34m:\u001b[0m\u001b[0;34m\u001b[0m\u001b[0m\n\u001b[1;32m    379\u001b[0m         \u001b[0;32mraise\u001b[0m \u001b[0mValueError\u001b[0m\u001b[0;34m(\u001b[0m\u001b[0;34m'Cannot apply_along_axis when any iteration dimensions are 0'\u001b[0m\u001b[0;34m)\u001b[0m\u001b[0;34m\u001b[0m\u001b[0m\n\u001b[0;32m--> 380\u001b[0;31m     \u001b[0mres\u001b[0m \u001b[0;34m=\u001b[0m \u001b[0masanyarray\u001b[0m\u001b[0;34m(\u001b[0m\u001b[0mfunc1d\u001b[0m\u001b[0;34m(\u001b[0m\u001b[0minarr_view\u001b[0m\u001b[0;34m[\u001b[0m\u001b[0mind0\u001b[0m\u001b[0;34m]\u001b[0m\u001b[0;34m,\u001b[0m \u001b[0;34m*\u001b[0m\u001b[0margs\u001b[0m\u001b[0;34m,\u001b[0m \u001b[0;34m**\u001b[0m\u001b[0mkwargs\u001b[0m\u001b[0;34m)\u001b[0m\u001b[0;34m)\u001b[0m\u001b[0;34m\u001b[0m\u001b[0m\n\u001b[0m\u001b[1;32m    381\u001b[0m \u001b[0;34m\u001b[0m\u001b[0m\n\u001b[1;32m    382\u001b[0m     \u001b[0;31m# build a buffer for storing evaluations of func1d.\u001b[0m\u001b[0;34m\u001b[0m\u001b[0;34m\u001b[0m\u001b[0m\n",
            "\u001b[0;32m~/anaconda3_501/lib/python3.6/site-packages/pandas/core/internals.py\u001b[0m in \u001b[0;36mfunc\u001b[0;34m(x)\u001b[0m\n\u001b[1;32m   1227\u001b[0m                                           \u001b[0mlimit_area\u001b[0m\u001b[0;34m=\u001b[0m\u001b[0mlimit_area\u001b[0m\u001b[0;34m,\u001b[0m\u001b[0;34m\u001b[0m\u001b[0m\n\u001b[1;32m   1228\u001b[0m                                           \u001b[0mfill_value\u001b[0m\u001b[0;34m=\u001b[0m\u001b[0mfill_value\u001b[0m\u001b[0;34m,\u001b[0m\u001b[0;34m\u001b[0m\u001b[0m\n\u001b[0;32m-> 1229\u001b[0;31m                                           bounds_error=False, **kwargs)\n\u001b[0m\u001b[1;32m   1230\u001b[0m \u001b[0;34m\u001b[0m\u001b[0m\n\u001b[1;32m   1231\u001b[0m         \u001b[0;31m# interp each column independently\u001b[0m\u001b[0;34m\u001b[0m\u001b[0;34m\u001b[0m\u001b[0m\n",
            "\u001b[0;32m~/anaconda3_501/lib/python3.6/site-packages/pandas/core/missing.py\u001b[0m in \u001b[0;36minterpolate_1d\u001b[0;34m(xvalues, yvalues, method, limit, limit_direction, limit_area, fill_value, bounds_error, order, **kwargs)\u001b[0m\n\u001b[1;32m    140\u001b[0m         \u001b[0;32mif\u001b[0m \u001b[0;32mnot\u001b[0m \u001b[0mgetattr\u001b[0m\u001b[0;34m(\u001b[0m\u001b[0mxvalues\u001b[0m\u001b[0;34m,\u001b[0m \u001b[0;34m'is_all_dates'\u001b[0m\u001b[0;34m,\u001b[0m \u001b[0;32mNone\u001b[0m\u001b[0;34m)\u001b[0m\u001b[0;34m:\u001b[0m\u001b[0;34m\u001b[0m\u001b[0m\n\u001b[1;32m    141\u001b[0m             \u001b[0;31m# if not issubclass(xvalues.dtype.type, np.datetime64):\u001b[0m\u001b[0;34m\u001b[0m\u001b[0;34m\u001b[0m\u001b[0m\n\u001b[0;32m--> 142\u001b[0;31m             raise ValueError('time-weighted interpolation only works '\n\u001b[0m\u001b[1;32m    143\u001b[0m                              \u001b[0;34m'on Series or DataFrames with a '\u001b[0m\u001b[0;34m\u001b[0m\u001b[0m\n\u001b[1;32m    144\u001b[0m                              'DatetimeIndex')\n",
            "\u001b[0;31mValueError\u001b[0m: time-weighted interpolation only works on Series or DataFrames with a DatetimeIndex"
          ]
        }
      ]
    },
    {
      "metadata": {},
      "cell_type": "markdown",
      "source": "time-weighted interpolation only works on Series or DataFrames with a DatetimeIndex"
    },
    {
      "metadata": {
        "trusted": true
      },
      "cell_type": "code",
      "source": "## Replacing the existing index with day column for interpolation to work",
      "execution_count": null,
      "outputs": []
    },
    {
      "metadata": {
        "trusted": true
      },
      "cell_type": "code",
      "source": "df_day = df.set_index('day')\n",
      "execution_count": 39,
      "outputs": []
    },
    {
      "metadata": {
        "trusted": true
      },
      "cell_type": "code",
      "source": "df_day",
      "execution_count": 40,
      "outputs": [
        {
          "output_type": "execute_result",
          "execution_count": 40,
          "data": {
            "text/html": "<div>\n<style scoped>\n    .dataframe tbody tr th:only-of-type {\n        vertical-align: middle;\n    }\n\n    .dataframe tbody tr th {\n        vertical-align: top;\n    }\n\n    .dataframe thead th {\n        text-align: right;\n    }\n</style>\n<table border=\"1\" class=\"dataframe\">\n  <thead>\n    <tr style=\"text-align: right;\">\n      <th></th>\n      <th>temperature</th>\n      <th>windspeed</th>\n      <th>event</th>\n    </tr>\n    <tr>\n      <th>day</th>\n      <th></th>\n      <th></th>\n      <th></th>\n    </tr>\n  </thead>\n  <tbody>\n    <tr>\n      <th>2017-01-01</th>\n      <td>32.0</td>\n      <td>6.0</td>\n      <td>Rain</td>\n    </tr>\n    <tr>\n      <th>2017-01-04</th>\n      <td>NaN</td>\n      <td>9.0</td>\n      <td>Sunny</td>\n    </tr>\n    <tr>\n      <th>2017-01-05</th>\n      <td>28.0</td>\n      <td>NaN</td>\n      <td>Snow</td>\n    </tr>\n    <tr>\n      <th>2017-01-06</th>\n      <td>NaN</td>\n      <td>7.0</td>\n      <td>NaN</td>\n    </tr>\n    <tr>\n      <th>2017-01-07</th>\n      <td>32.0</td>\n      <td>NaN</td>\n      <td>Rain</td>\n    </tr>\n    <tr>\n      <th>2017-01-08</th>\n      <td>NaN</td>\n      <td>NaN</td>\n      <td>Sunny</td>\n    </tr>\n    <tr>\n      <th>2017-01-09</th>\n      <td>NaN</td>\n      <td>NaN</td>\n      <td>NaN</td>\n    </tr>\n    <tr>\n      <th>2017-01-10</th>\n      <td>34.0</td>\n      <td>8.0</td>\n      <td>Cloudy</td>\n    </tr>\n    <tr>\n      <th>2017-01-11</th>\n      <td>40.0</td>\n      <td>12.0</td>\n      <td>Sunny</td>\n    </tr>\n  </tbody>\n</table>\n</div>",
            "text/plain": "            temperature  windspeed   event\nday                                       \n2017-01-01         32.0        6.0    Rain\n2017-01-04          NaN        9.0   Sunny\n2017-01-05         28.0        NaN    Snow\n2017-01-06          NaN        7.0     NaN\n2017-01-07         32.0        NaN    Rain\n2017-01-08          NaN        NaN   Sunny\n2017-01-09          NaN        NaN     NaN\n2017-01-10         34.0        8.0  Cloudy\n2017-01-11         40.0       12.0   Sunny"
          },
          "metadata": {}
        }
      ]
    },
    {
      "metadata": {
        "trusted": true
      },
      "cell_type": "code",
      "source": "## Using time method in interpolate to get more accurate values assigned",
      "execution_count": null,
      "outputs": []
    },
    {
      "metadata": {
        "trusted": true
      },
      "cell_type": "code",
      "source": "df1 = df_day.interpolate(method=\"time\")",
      "execution_count": 41,
      "outputs": []
    },
    {
      "metadata": {
        "trusted": true
      },
      "cell_type": "code",
      "source": "df1",
      "execution_count": 42,
      "outputs": [
        {
          "output_type": "execute_result",
          "execution_count": 42,
          "data": {
            "text/html": "<div>\n<style scoped>\n    .dataframe tbody tr th:only-of-type {\n        vertical-align: middle;\n    }\n\n    .dataframe tbody tr th {\n        vertical-align: top;\n    }\n\n    .dataframe thead th {\n        text-align: right;\n    }\n</style>\n<table border=\"1\" class=\"dataframe\">\n  <thead>\n    <tr style=\"text-align: right;\">\n      <th></th>\n      <th>temperature</th>\n      <th>windspeed</th>\n      <th>event</th>\n    </tr>\n    <tr>\n      <th>day</th>\n      <th></th>\n      <th></th>\n      <th></th>\n    </tr>\n  </thead>\n  <tbody>\n    <tr>\n      <th>2017-01-01</th>\n      <td>32.000000</td>\n      <td>6.00</td>\n      <td>Rain</td>\n    </tr>\n    <tr>\n      <th>2017-01-04</th>\n      <td>29.000000</td>\n      <td>9.00</td>\n      <td>Sunny</td>\n    </tr>\n    <tr>\n      <th>2017-01-05</th>\n      <td>28.000000</td>\n      <td>8.00</td>\n      <td>Snow</td>\n    </tr>\n    <tr>\n      <th>2017-01-06</th>\n      <td>30.000000</td>\n      <td>7.00</td>\n      <td>NaN</td>\n    </tr>\n    <tr>\n      <th>2017-01-07</th>\n      <td>32.000000</td>\n      <td>7.25</td>\n      <td>Rain</td>\n    </tr>\n    <tr>\n      <th>2017-01-08</th>\n      <td>32.666667</td>\n      <td>7.50</td>\n      <td>Sunny</td>\n    </tr>\n    <tr>\n      <th>2017-01-09</th>\n      <td>33.333333</td>\n      <td>7.75</td>\n      <td>NaN</td>\n    </tr>\n    <tr>\n      <th>2017-01-10</th>\n      <td>34.000000</td>\n      <td>8.00</td>\n      <td>Cloudy</td>\n    </tr>\n    <tr>\n      <th>2017-01-11</th>\n      <td>40.000000</td>\n      <td>12.00</td>\n      <td>Sunny</td>\n    </tr>\n  </tbody>\n</table>\n</div>",
            "text/plain": "            temperature  windspeed   event\nday                                       \n2017-01-01    32.000000       6.00    Rain\n2017-01-04    29.000000       9.00   Sunny\n2017-01-05    28.000000       8.00    Snow\n2017-01-06    30.000000       7.00     NaN\n2017-01-07    32.000000       7.25    Rain\n2017-01-08    32.666667       7.50   Sunny\n2017-01-09    33.333333       7.75     NaN\n2017-01-10    34.000000       8.00  Cloudy\n2017-01-11    40.000000      12.00   Sunny"
          },
          "metadata": {}
        }
      ]
    },
    {
      "metadata": {},
      "cell_type": "markdown",
      "source": "## Drop"
    },
    {
      "metadata": {},
      "cell_type": "markdown",
      "source": "####    drop rows with NaN values"
    },
    {
      "metadata": {
        "trusted": true
      },
      "cell_type": "code",
      "source": "df",
      "execution_count": 43,
      "outputs": [
        {
          "output_type": "execute_result",
          "execution_count": 43,
          "data": {
            "text/html": "<div>\n<style scoped>\n    .dataframe tbody tr th:only-of-type {\n        vertical-align: middle;\n    }\n\n    .dataframe tbody tr th {\n        vertical-align: top;\n    }\n\n    .dataframe thead th {\n        text-align: right;\n    }\n</style>\n<table border=\"1\" class=\"dataframe\">\n  <thead>\n    <tr style=\"text-align: right;\">\n      <th></th>\n      <th>day</th>\n      <th>temperature</th>\n      <th>windspeed</th>\n      <th>event</th>\n    </tr>\n  </thead>\n  <tbody>\n    <tr>\n      <th>0</th>\n      <td>2017-01-01</td>\n      <td>32.0</td>\n      <td>6.0</td>\n      <td>Rain</td>\n    </tr>\n    <tr>\n      <th>1</th>\n      <td>2017-01-04</td>\n      <td>NaN</td>\n      <td>9.0</td>\n      <td>Sunny</td>\n    </tr>\n    <tr>\n      <th>2</th>\n      <td>2017-01-05</td>\n      <td>28.0</td>\n      <td>NaN</td>\n      <td>Snow</td>\n    </tr>\n    <tr>\n      <th>3</th>\n      <td>2017-01-06</td>\n      <td>NaN</td>\n      <td>7.0</td>\n      <td>NaN</td>\n    </tr>\n    <tr>\n      <th>4</th>\n      <td>2017-01-07</td>\n      <td>32.0</td>\n      <td>NaN</td>\n      <td>Rain</td>\n    </tr>\n    <tr>\n      <th>5</th>\n      <td>2017-01-08</td>\n      <td>NaN</td>\n      <td>NaN</td>\n      <td>Sunny</td>\n    </tr>\n    <tr>\n      <th>6</th>\n      <td>2017-01-09</td>\n      <td>NaN</td>\n      <td>NaN</td>\n      <td>NaN</td>\n    </tr>\n    <tr>\n      <th>7</th>\n      <td>2017-01-10</td>\n      <td>34.0</td>\n      <td>8.0</td>\n      <td>Cloudy</td>\n    </tr>\n    <tr>\n      <th>8</th>\n      <td>2017-01-11</td>\n      <td>40.0</td>\n      <td>12.0</td>\n      <td>Sunny</td>\n    </tr>\n  </tbody>\n</table>\n</div>",
            "text/plain": "         day  temperature  windspeed   event\n0 2017-01-01         32.0        6.0    Rain\n1 2017-01-04          NaN        9.0   Sunny\n2 2017-01-05         28.0        NaN    Snow\n3 2017-01-06          NaN        7.0     NaN\n4 2017-01-07         32.0        NaN    Rain\n5 2017-01-08          NaN        NaN   Sunny\n6 2017-01-09          NaN        NaN     NaN\n7 2017-01-10         34.0        8.0  Cloudy\n8 2017-01-11         40.0       12.0   Sunny"
          },
          "metadata": {}
        }
      ]
    },
    {
      "metadata": {},
      "cell_type": "markdown",
      "source": "row no:(index no) 1->1NaN, 2->1NaN, 3->2NaN, 4->1NaN, 5->2NaN, 6->3NaN, "
    },
    {
      "metadata": {
        "trusted": true
      },
      "cell_type": "code",
      "source": "## dropna() drops the entire row even if there is a single column with NaN value",
      "execution_count": null,
      "outputs": []
    },
    {
      "metadata": {
        "trusted": true
      },
      "cell_type": "code",
      "source": "df1 = df.dropna()",
      "execution_count": 44,
      "outputs": []
    },
    {
      "metadata": {
        "trusted": true
      },
      "cell_type": "code",
      "source": "df1",
      "execution_count": 45,
      "outputs": [
        {
          "output_type": "execute_result",
          "execution_count": 45,
          "data": {
            "text/html": "<div>\n<style scoped>\n    .dataframe tbody tr th:only-of-type {\n        vertical-align: middle;\n    }\n\n    .dataframe tbody tr th {\n        vertical-align: top;\n    }\n\n    .dataframe thead th {\n        text-align: right;\n    }\n</style>\n<table border=\"1\" class=\"dataframe\">\n  <thead>\n    <tr style=\"text-align: right;\">\n      <th></th>\n      <th>day</th>\n      <th>temperature</th>\n      <th>windspeed</th>\n      <th>event</th>\n    </tr>\n  </thead>\n  <tbody>\n    <tr>\n      <th>0</th>\n      <td>2017-01-01</td>\n      <td>32.0</td>\n      <td>6.0</td>\n      <td>Rain</td>\n    </tr>\n    <tr>\n      <th>7</th>\n      <td>2017-01-10</td>\n      <td>34.0</td>\n      <td>8.0</td>\n      <td>Cloudy</td>\n    </tr>\n    <tr>\n      <th>8</th>\n      <td>2017-01-11</td>\n      <td>40.0</td>\n      <td>12.0</td>\n      <td>Sunny</td>\n    </tr>\n  </tbody>\n</table>\n</div>",
            "text/plain": "         day  temperature  windspeed   event\n0 2017-01-01         32.0        6.0    Rain\n7 2017-01-10         34.0        8.0  Cloudy\n8 2017-01-11         40.0       12.0   Sunny"
          },
          "metadata": {}
        }
      ]
    },
    {
      "metadata": {
        "trusted": true
      },
      "cell_type": "code",
      "source": "df_drop = df.dropna(thresh=None)",
      "execution_count": 59,
      "outputs": []
    },
    {
      "metadata": {
        "trusted": true
      },
      "cell_type": "code",
      "source": "df_drop",
      "execution_count": 60,
      "outputs": [
        {
          "output_type": "execute_result",
          "execution_count": 60,
          "data": {
            "text/html": "<div>\n<style scoped>\n    .dataframe tbody tr th:only-of-type {\n        vertical-align: middle;\n    }\n\n    .dataframe tbody tr th {\n        vertical-align: top;\n    }\n\n    .dataframe thead th {\n        text-align: right;\n    }\n</style>\n<table border=\"1\" class=\"dataframe\">\n  <thead>\n    <tr style=\"text-align: right;\">\n      <th></th>\n      <th>day</th>\n      <th>temperature</th>\n      <th>windspeed</th>\n      <th>event</th>\n    </tr>\n  </thead>\n  <tbody>\n    <tr>\n      <th>0</th>\n      <td>2017-01-01</td>\n      <td>32.0</td>\n      <td>6.0</td>\n      <td>Rain</td>\n    </tr>\n    <tr>\n      <th>7</th>\n      <td>2017-01-10</td>\n      <td>34.0</td>\n      <td>8.0</td>\n      <td>Cloudy</td>\n    </tr>\n    <tr>\n      <th>8</th>\n      <td>2017-01-11</td>\n      <td>40.0</td>\n      <td>12.0</td>\n      <td>Sunny</td>\n    </tr>\n  </tbody>\n</table>\n</div>",
            "text/plain": "         day  temperature  windspeed   event\n0 2017-01-01         32.0        6.0    Rain\n7 2017-01-10         34.0        8.0  Cloudy\n8 2017-01-11         40.0       12.0   Sunny"
          },
          "metadata": {}
        }
      ]
    },
    {
      "metadata": {
        "trusted": true
      },
      "cell_type": "code",
      "source": "df_drop1=df.dropna(thresh=2)",
      "execution_count": 63,
      "outputs": []
    },
    {
      "metadata": {
        "trusted": true
      },
      "cell_type": "code",
      "source": "df_drop1",
      "execution_count": 64,
      "outputs": [
        {
          "output_type": "execute_result",
          "execution_count": 64,
          "data": {
            "text/html": "<div>\n<style scoped>\n    .dataframe tbody tr th:only-of-type {\n        vertical-align: middle;\n    }\n\n    .dataframe tbody tr th {\n        vertical-align: top;\n    }\n\n    .dataframe thead th {\n        text-align: right;\n    }\n</style>\n<table border=\"1\" class=\"dataframe\">\n  <thead>\n    <tr style=\"text-align: right;\">\n      <th></th>\n      <th>day</th>\n      <th>temperature</th>\n      <th>windspeed</th>\n      <th>event</th>\n    </tr>\n  </thead>\n  <tbody>\n    <tr>\n      <th>0</th>\n      <td>2017-01-01</td>\n      <td>32.0</td>\n      <td>6.0</td>\n      <td>Rain</td>\n    </tr>\n    <tr>\n      <th>1</th>\n      <td>2017-01-04</td>\n      <td>NaN</td>\n      <td>9.0</td>\n      <td>Sunny</td>\n    </tr>\n    <tr>\n      <th>2</th>\n      <td>2017-01-05</td>\n      <td>28.0</td>\n      <td>NaN</td>\n      <td>Snow</td>\n    </tr>\n    <tr>\n      <th>3</th>\n      <td>2017-01-06</td>\n      <td>NaN</td>\n      <td>7.0</td>\n      <td>NaN</td>\n    </tr>\n    <tr>\n      <th>4</th>\n      <td>2017-01-07</td>\n      <td>32.0</td>\n      <td>NaN</td>\n      <td>Rain</td>\n    </tr>\n    <tr>\n      <th>5</th>\n      <td>2017-01-08</td>\n      <td>NaN</td>\n      <td>NaN</td>\n      <td>Sunny</td>\n    </tr>\n    <tr>\n      <th>7</th>\n      <td>2017-01-10</td>\n      <td>34.0</td>\n      <td>8.0</td>\n      <td>Cloudy</td>\n    </tr>\n    <tr>\n      <th>8</th>\n      <td>2017-01-11</td>\n      <td>40.0</td>\n      <td>12.0</td>\n      <td>Sunny</td>\n    </tr>\n  </tbody>\n</table>\n</div>",
            "text/plain": "         day  temperature  windspeed   event\n0 2017-01-01         32.0        6.0    Rain\n1 2017-01-04          NaN        9.0   Sunny\n2 2017-01-05         28.0        NaN    Snow\n3 2017-01-06          NaN        7.0     NaN\n4 2017-01-07         32.0        NaN    Rain\n5 2017-01-08          NaN        NaN   Sunny\n7 2017-01-10         34.0        8.0  Cloudy\n8 2017-01-11         40.0       12.0   Sunny"
          },
          "metadata": {}
        }
      ]
    },
    {
      "metadata": {
        "trusted": true
      },
      "cell_type": "code",
      "source": "df_drop2 = df.dropna(thresh=2)",
      "execution_count": 71,
      "outputs": []
    },
    {
      "metadata": {
        "trusted": true
      },
      "cell_type": "code",
      "source": "df_drop2",
      "execution_count": 72,
      "outputs": [
        {
          "output_type": "execute_result",
          "execution_count": 72,
          "data": {
            "text/html": "<div>\n<style scoped>\n    .dataframe tbody tr th:only-of-type {\n        vertical-align: middle;\n    }\n\n    .dataframe tbody tr th {\n        vertical-align: top;\n    }\n\n    .dataframe thead th {\n        text-align: right;\n    }\n</style>\n<table border=\"1\" class=\"dataframe\">\n  <thead>\n    <tr style=\"text-align: right;\">\n      <th></th>\n      <th>day</th>\n      <th>temperature</th>\n      <th>windspeed</th>\n      <th>event</th>\n    </tr>\n  </thead>\n  <tbody>\n    <tr>\n      <th>0</th>\n      <td>2017-01-01</td>\n      <td>32.0</td>\n      <td>6.0</td>\n      <td>Rain</td>\n    </tr>\n    <tr>\n      <th>1</th>\n      <td>2017-01-04</td>\n      <td>NaN</td>\n      <td>9.0</td>\n      <td>Sunny</td>\n    </tr>\n    <tr>\n      <th>2</th>\n      <td>2017-01-05</td>\n      <td>28.0</td>\n      <td>NaN</td>\n      <td>Snow</td>\n    </tr>\n    <tr>\n      <th>3</th>\n      <td>2017-01-06</td>\n      <td>NaN</td>\n      <td>7.0</td>\n      <td>NaN</td>\n    </tr>\n    <tr>\n      <th>4</th>\n      <td>2017-01-07</td>\n      <td>32.0</td>\n      <td>NaN</td>\n      <td>Rain</td>\n    </tr>\n    <tr>\n      <th>5</th>\n      <td>2017-01-08</td>\n      <td>NaN</td>\n      <td>NaN</td>\n      <td>Sunny</td>\n    </tr>\n    <tr>\n      <th>7</th>\n      <td>2017-01-10</td>\n      <td>34.0</td>\n      <td>8.0</td>\n      <td>Cloudy</td>\n    </tr>\n    <tr>\n      <th>8</th>\n      <td>2017-01-11</td>\n      <td>40.0</td>\n      <td>12.0</td>\n      <td>Sunny</td>\n    </tr>\n  </tbody>\n</table>\n</div>",
            "text/plain": "         day  temperature  windspeed   event\n0 2017-01-01         32.0        6.0    Rain\n1 2017-01-04          NaN        9.0   Sunny\n2 2017-01-05         28.0        NaN    Snow\n3 2017-01-06          NaN        7.0     NaN\n4 2017-01-07         32.0        NaN    Rain\n5 2017-01-08          NaN        NaN   Sunny\n7 2017-01-10         34.0        8.0  Cloudy\n8 2017-01-11         40.0       12.0   Sunny"
          },
          "metadata": {}
        }
      ]
    },
    {
      "metadata": {},
      "cell_type": "markdown",
      "source": "## Adding Missing Dates"
    },
    {
      "metadata": {
        "trusted": true
      },
      "cell_type": "code",
      "source": "dt = pd.date_range(\"01-01-2017\",\"01-11-2017\")\nidx = pd.DatetimeIndex(dt)\ndf.reindex(idx)",
      "execution_count": 75,
      "outputs": [
        {
          "output_type": "execute_result",
          "execution_count": 75,
          "data": {
            "text/html": "<div>\n<style scoped>\n    .dataframe tbody tr th:only-of-type {\n        vertical-align: middle;\n    }\n\n    .dataframe tbody tr th {\n        vertical-align: top;\n    }\n\n    .dataframe thead th {\n        text-align: right;\n    }\n</style>\n<table border=\"1\" class=\"dataframe\">\n  <thead>\n    <tr style=\"text-align: right;\">\n      <th></th>\n      <th>day</th>\n      <th>temperature</th>\n      <th>windspeed</th>\n      <th>event</th>\n    </tr>\n  </thead>\n  <tbody>\n    <tr>\n      <th>2017-01-01</th>\n      <td>NaT</td>\n      <td>NaN</td>\n      <td>NaN</td>\n      <td>NaN</td>\n    </tr>\n    <tr>\n      <th>2017-01-02</th>\n      <td>NaT</td>\n      <td>NaN</td>\n      <td>NaN</td>\n      <td>NaN</td>\n    </tr>\n    <tr>\n      <th>2017-01-03</th>\n      <td>NaT</td>\n      <td>NaN</td>\n      <td>NaN</td>\n      <td>NaN</td>\n    </tr>\n    <tr>\n      <th>2017-01-04</th>\n      <td>NaT</td>\n      <td>NaN</td>\n      <td>NaN</td>\n      <td>NaN</td>\n    </tr>\n    <tr>\n      <th>2017-01-05</th>\n      <td>NaT</td>\n      <td>NaN</td>\n      <td>NaN</td>\n      <td>NaN</td>\n    </tr>\n    <tr>\n      <th>2017-01-06</th>\n      <td>NaT</td>\n      <td>NaN</td>\n      <td>NaN</td>\n      <td>NaN</td>\n    </tr>\n    <tr>\n      <th>2017-01-07</th>\n      <td>NaT</td>\n      <td>NaN</td>\n      <td>NaN</td>\n      <td>NaN</td>\n    </tr>\n    <tr>\n      <th>2017-01-08</th>\n      <td>NaT</td>\n      <td>NaN</td>\n      <td>NaN</td>\n      <td>NaN</td>\n    </tr>\n    <tr>\n      <th>2017-01-09</th>\n      <td>NaT</td>\n      <td>NaN</td>\n      <td>NaN</td>\n      <td>NaN</td>\n    </tr>\n    <tr>\n      <th>2017-01-10</th>\n      <td>NaT</td>\n      <td>NaN</td>\n      <td>NaN</td>\n      <td>NaN</td>\n    </tr>\n    <tr>\n      <th>2017-01-11</th>\n      <td>NaT</td>\n      <td>NaN</td>\n      <td>NaN</td>\n      <td>NaN</td>\n    </tr>\n  </tbody>\n</table>\n</div>",
            "text/plain": "           day  temperature  windspeed event\n2017-01-01 NaT          NaN        NaN   NaN\n2017-01-02 NaT          NaN        NaN   NaN\n2017-01-03 NaT          NaN        NaN   NaN\n2017-01-04 NaT          NaN        NaN   NaN\n2017-01-05 NaT          NaN        NaN   NaN\n2017-01-06 NaT          NaN        NaN   NaN\n2017-01-07 NaT          NaN        NaN   NaN\n2017-01-08 NaT          NaN        NaN   NaN\n2017-01-09 NaT          NaN        NaN   NaN\n2017-01-10 NaT          NaN        NaN   NaN\n2017-01-11 NaT          NaN        NaN   NaN"
          },
          "metadata": {}
        }
      ]
    },
    {
      "metadata": {
        "trusted": true
      },
      "cell_type": "code",
      "source": "",
      "execution_count": null,
      "outputs": []
    }
  ],
  "metadata": {
    "kernelspec": {
      "name": "python36",
      "display_name": "Python 3.6",
      "language": "python"
    },
    "language_info": {
      "mimetype": "text/x-python",
      "nbconvert_exporter": "python",
      "name": "python",
      "pygments_lexer": "ipython3",
      "version": "3.6.6",
      "file_extension": ".py",
      "codemirror_mode": {
        "version": 3,
        "name": "ipython"
      }
    }
  },
  "nbformat": 4,
  "nbformat_minor": 2
}